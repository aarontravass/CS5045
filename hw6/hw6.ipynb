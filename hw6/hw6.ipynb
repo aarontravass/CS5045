{
  "nbformat": 4,
  "nbformat_minor": 0,
  "metadata": {
    "colab": {
      "name": "hw6.ipynb",
      "provenance": [],
      "collapsed_sections": []
    },
    "kernelspec": {
      "name": "python3",
      "display_name": "Python 3"
    },
    "language_info": {
      "name": "python"
    }
  },
  "cells": [
    {
      "cell_type": "code",
      "metadata": {
        "id": "CMgIIiN5RSXR"
      },
      "source": [
        "from datetime import date, datetime\n",
        "import uuid\n",
        "\n",
        "\n",
        "class Patient:\n",
        "    patient_guid = \"\"\n",
        "    name = \"\"\n",
        "    gender = \"\"\n",
        "    address = \"\"\n",
        "    phone_number = \"\"\n",
        "    date_of_birth = \"\"\n",
        "    age = 0\n",
        "    data = {}\n",
        "\n",
        "    def __init__(self, name, gender, address, phone_number, date_of_birth):\n",
        "        self.patient_guid = str(uuid.uuid4())\n",
        "        self.name = name\n",
        "        self.gender = gender\n",
        "        self.address = address\n",
        "        self.phone_number = phone_number\n",
        "        self.date_of_birth = date_of_birth\n",
        "        self.age = self.calculate_age(date_of_birth)\n",
        "        Patient.data[self.patient_guid] = {\n",
        "                'name': self.name,\n",
        "                'gender': self.gender,\n",
        "                'address': self.address,\n",
        "                'phone_number': self.phone_number,\n",
        "                'date_of_birth': self.date_of_birth,\n",
        "                'age': self.age\n",
        "            }\n",
        "        \n",
        "        print(\"Successfully added patient data\")\n",
        "        print(\"Patient ID is \",self.patient_guid)\n",
        "        return\n",
        "\n",
        "\n",
        "    def calculate_age(self, date_of_birth):\n",
        "        dt = [int(s) for s in date_of_birth.split('-')]\n",
        "        born = date(dt[0], dt[1], dt[2])\n",
        "        today = date.today()\n",
        "        return today.year - born.year - ((today.month, today.day) < (born.month, born.day))\n",
        "\n",
        "    def fetchPatientInfo(self, patient_guid):\n",
        "        if Patient.data.get(patient_guid) is None:\n",
        "            print(\"Patient ID is invalid\")\n",
        "            return\n",
        "        data = [\n",
        "            'Patient Name: ' + Patient.data[patient_guid]['name'],\n",
        "            'Gender: ' + Patient.data[patient_guid]['gender'],\n",
        "            'Address: ' + Patient.data[patient_guid]['address'],\n",
        "            'Phone Number: ' + Patient.data[patient_guid]['phone_number'],\n",
        "            'Date of Birth: ' + Patient.data[patient_guid]['date_of_birth'],\n",
        "            'Patient Age: ' + str(Patient.data[patient_guid]['age'])\n",
        "        ]\n",
        "        return '\\n'.join(data)\n",
        "    def updateName(self,name):\n",
        "        Patient.data[self.patient_guid]['name']=name\n",
        "        self.name=name\n",
        "        print(\"Name updated successfully\")\n",
        "\n",
        "\n",
        "class Doctor:\n",
        "    doctor_guid = ''\n",
        "    registration_number_dt = []\n",
        "    registration_number = ''\n",
        "    name = \"\"\n",
        "    qualification = \"\"\n",
        "    specialization = \"\"\n",
        "    phone_number = \"\"\n",
        "    data = {}\n",
        "\n",
        "    def __init__(self, name, registration_number, qualification, specialization, phone_number):\n",
        "        if self.isRegistrationNoUnique(registration_number):\n",
        "            print(\"Registration Number must be unique\")\n",
        "            return\n",
        "        if not (qualification == 'DO' or qualification == 'MD'):\n",
        "            print(\"Qualification must be either DO or MD\")\n",
        "            return\n",
        "        self.doctor_guid = str(uuid.uuid4())\n",
        "        self.name = name\n",
        "        Doctor.registration_number_dt.append(registration_number)\n",
        "        self.registration_number = registration_number\n",
        "        self.qualification = qualification\n",
        "        self.specialization = specialization\n",
        "        self.phone_number = phone_number\n",
        "        Doctor.data[self.doctor_guid]={\n",
        "                'name': self.name,\n",
        "                'registration_number': self.registration_number,\n",
        "                'qualification': self.qualification,\n",
        "                'specialization': self.specialization,\n",
        "                'phone_number': self.phone_number\n",
        "            }\n",
        "        \n",
        "        print(\"Successfully added doctor data\")\n",
        "        return\n",
        "\n",
        "    def isRegistrationNoUnique(self,registration_number):\n",
        "        return registration_number in Doctor.registration_number_dt\n",
        "\n",
        "    def fetchDoctorInfo(self):\n",
        "        data = [\n",
        "            'Doctor Name: ' + Doctor.data[self.doctor_guid]['name'],\n",
        "            'Registration Number: ' + Doctor.data[self.doctor_guid]['registration_number'],\n",
        "            'Qualification: ' + Doctor.data[self.doctor_guid]['qualification'],\n",
        "            'Specialization: ' + Doctor.data[self.doctor_guid]['specialization'],\n",
        "            'Phone Number: ' + Doctor.data[self.doctor_guid]['phone_number']\n",
        "        ]\n",
        "        return '\\n'.join(data) \n",
        "\n",
        "    def updateQualification(self,qualification):\n",
        "        if (qualification != 'DO' or qualification != 'MD'):\n",
        "            print(\"Qualification must be either DO or MD\")\n",
        "            return\n",
        "        Doctor.data[self.doctor_guid]['qualification']=qualification\n",
        "        self.qualification=qualification\n",
        "        print(\"Qualification updated successfully\")\n",
        "        return\n",
        "    \n",
        "    def updateRegNo(self,registration_number):\n",
        "        if self.isRegistrationNoUnique(registration_number):\n",
        "            print(\"Registration Number must be unique\")\n",
        "            return\n",
        "        Doctor.registration_number_dt.remove(Doctor.data[self.doctor_guid]['registration_number'])\n",
        "        Doctor.data[self.doctor_guid]['registration_number']=registration_number\n",
        "        self.registration_number=registration_number\n",
        "        Doctor.registration_number_dt.append(registration_number)\n",
        "        print(\"Registration number updated successfully\")\n",
        "        return\n",
        "\n",
        "\n",
        "class PatientHealthReport:\n",
        "    doctor_guid = ''\n",
        "    patient_guid = ''\n",
        "    last_date_of_checkup = ''\n",
        "    health_problems = []\n",
        "    list_of_medicines = []\n",
        "    cost = 0\n",
        "    report = \"\"\n",
        "\n",
        "    def __init__(self, doctor_guid, patient_guid, last_date_of_checkup, health_problems, list_of_medicines, cost,\n",
        "                 report):\n",
        "        if doctor_guid not in Doctor.data:\n",
        "            print(\"Doctor Guid should be valid\")\n",
        "            return\n",
        "        if patient_guid not in Patient.data:\n",
        "            print(\"Patient Guid should be valid\")\n",
        "            return\n",
        "        self.doctor_guid = doctor_guid\n",
        "        self.patient_guid = patient_guid\n",
        "        self.last_date_of_checkup = last_date_of_checkup\n",
        "        self.health_problems = health_problems\n",
        "        self.list_of_medicines = list_of_medicines\n",
        "        self.cost = cost\n",
        "        self.report = report\n",
        "        print(\"Successfully added Health report\")\n",
        "        return\n",
        "    \n",
        "    def fetchPatientData(self):\n",
        "        print(\"Personal Information:\")\n",
        "        print(Patient.fetchPatientInfo(None,self.patient_guid))\n",
        "        data = [\n",
        "            'Doctor Name: ' + Doctor.data[self.doctor_guid]['name'],\n",
        "            'Doctor Registration Number: ' + Doctor.data[self.doctor_guid]['registration_number'],\n",
        "            'Last date of checkup: ' + self.last_date_of_checkup,\n",
        "            'Health Problems: ' + ', '.join(self.health_problems),\n",
        "            'List of medicines: ' + ', '.join(self.list_of_medicines),\n",
        "            'Total cost: $' + str(self.cost),\n",
        "            'Final Report: ' + self.report\n",
        "        ]\n",
        "        print('\\n'.join(data)) \n",
        "\n",
        "    def updateReport(self, report):\n",
        "        self.report=report\n",
        "        print(\"Successfully updated report\")\n",
        "\n",
        "\n"
      ],
      "execution_count": 356,
      "outputs": []
    },
    {
      "cell_type": "code",
      "metadata": {
        "colab": {
          "base_uri": "https://localhost:8080/"
        },
        "id": "k83PdVvMRWL8",
        "outputId": "fa400e0e-086f-4e5b-e2de-6bbe961e7004"
      },
      "source": [
        "patient1=Patient(\"John\",'Male','Washington','1234','2000-12-02')"
      ],
      "execution_count": 357,
      "outputs": [
        {
          "output_type": "stream",
          "name": "stdout",
          "text": [
            "Successfully added patient data\n",
            "Patient ID is  85a41ff7-9b58-4e87-8499-d8997368c55a\n"
          ]
        }
      ]
    },
    {
      "cell_type": "code",
      "metadata": {
        "colab": {
          "base_uri": "https://localhost:8080/",
          "height": 36
        },
        "id": "F_-qoDOVRbMP",
        "outputId": "ebce1fc2-81f9-4220-a94b-c36c170dd67a"
      },
      "source": [
        "patient1.fetchPatientInfo(patient1.patient_guid)"
      ],
      "execution_count": 358,
      "outputs": [
        {
          "output_type": "execute_result",
          "data": {
            "application/vnd.google.colaboratory.intrinsic+json": {
              "type": "string"
            },
            "text/plain": [
              "'Patient Name: John\\nGender: Male\\nAddress: Washington\\nPhone Number: 1234\\nDate of Birth: 2000-12-02\\nPatient Age: 20'"
            ]
          },
          "metadata": {},
          "execution_count": 358
        }
      ]
    },
    {
      "cell_type": "code",
      "metadata": {
        "colab": {
          "base_uri": "https://localhost:8080/"
        },
        "id": "RLE8ZR7uTl1D",
        "outputId": "5a1ff38b-7000-4353-a9f4-2a6a458c9345"
      },
      "source": [
        "patient1.updateName('Henry')"
      ],
      "execution_count": 359,
      "outputs": [
        {
          "output_type": "stream",
          "name": "stdout",
          "text": [
            "Name updated successfully\n"
          ]
        }
      ]
    },
    {
      "cell_type": "code",
      "metadata": {
        "colab": {
          "base_uri": "https://localhost:8080/",
          "height": 36
        },
        "id": "vKCA96JQTw9A",
        "outputId": "f57cea5d-23c0-482a-c3e1-fbd95af7e809"
      },
      "source": [
        "patient1.fetchPatientInfo(patient1.patient_guid)"
      ],
      "execution_count": 360,
      "outputs": [
        {
          "output_type": "execute_result",
          "data": {
            "application/vnd.google.colaboratory.intrinsic+json": {
              "type": "string"
            },
            "text/plain": [
              "'Patient Name: Henry\\nGender: Male\\nAddress: Washington\\nPhone Number: 1234\\nDate of Birth: 2000-12-02\\nPatient Age: 20'"
            ]
          },
          "metadata": {},
          "execution_count": 360
        }
      ]
    },
    {
      "cell_type": "code",
      "metadata": {
        "colab": {
          "base_uri": "https://localhost:8080/",
          "height": 36
        },
        "id": "Wgpqrr2GT0Yu",
        "outputId": "4c17f7b4-c433-4f36-fb1c-e2cd7891e8be"
      },
      "source": [
        "patient1.gender"
      ],
      "execution_count": 361,
      "outputs": [
        {
          "output_type": "execute_result",
          "data": {
            "application/vnd.google.colaboratory.intrinsic+json": {
              "type": "string"
            },
            "text/plain": [
              "'Male'"
            ]
          },
          "metadata": {},
          "execution_count": 361
        }
      ]
    },
    {
      "cell_type": "code",
      "metadata": {
        "colab": {
          "base_uri": "https://localhost:8080/"
        },
        "id": "YB1YCTJZT1-x",
        "outputId": "548991cb-6838-469b-9405-68ac6ff9d44c"
      },
      "source": [
        "doctor1 = Doctor('Mike','ABC1234','MD','Oncology','1234567')"
      ],
      "execution_count": 362,
      "outputs": [
        {
          "output_type": "stream",
          "name": "stdout",
          "text": [
            "Successfully added doctor data\n"
          ]
        }
      ]
    },
    {
      "cell_type": "code",
      "metadata": {
        "colab": {
          "base_uri": "https://localhost:8080/",
          "height": 36
        },
        "id": "B9NnpNR4gqZt",
        "outputId": "4a580242-6d1c-4713-c704-481ea4d15869"
      },
      "source": [
        "doctor1.fetchDoctorInfo()"
      ],
      "execution_count": 363,
      "outputs": [
        {
          "output_type": "execute_result",
          "data": {
            "application/vnd.google.colaboratory.intrinsic+json": {
              "type": "string"
            },
            "text/plain": [
              "'Doctor Name: Mike\\nRegistration Number: ABC1234\\nQualification: MD\\nSpecialization: Oncology\\nPhone Number: 1234567'"
            ]
          },
          "metadata": {},
          "execution_count": 363
        }
      ]
    },
    {
      "cell_type": "code",
      "metadata": {
        "colab": {
          "base_uri": "https://localhost:8080/"
        },
        "id": "l3iYJOBtgylf",
        "outputId": "7b8ef76c-df5b-48cc-8fac-c95dd36b7956"
      },
      "source": [
        "doctor2 = Doctor('Eve','ABC1234','MD','Physiotherapy','1234567')"
      ],
      "execution_count": 364,
      "outputs": [
        {
          "output_type": "stream",
          "name": "stdout",
          "text": [
            "Registration Number must be unique\n"
          ]
        }
      ]
    },
    {
      "cell_type": "code",
      "metadata": {
        "colab": {
          "base_uri": "https://localhost:8080/"
        },
        "id": "r35pM8VHg7DE",
        "outputId": "903e00d8-670a-43ea-c5e9-e10d17e852e9"
      },
      "source": [
        "doctor3 = Doctor('Bob','R341','DO','Oncology','5678')"
      ],
      "execution_count": 365,
      "outputs": [
        {
          "output_type": "stream",
          "name": "stdout",
          "text": [
            "Successfully added doctor data\n"
          ]
        }
      ]
    },
    {
      "cell_type": "code",
      "metadata": {
        "colab": {
          "base_uri": "https://localhost:8080/"
        },
        "id": "fP0eP-0YCo4O",
        "outputId": "e65aeb33-9260-4994-eeea-03078cf72b5d"
      },
      "source": [
        "doctor3.updateQualification('MD')\n",
        "doctor3.updateRegNo('ABC1234')"
      ],
      "execution_count": 366,
      "outputs": [
        {
          "output_type": "stream",
          "name": "stdout",
          "text": [
            "Qualification must be either DO or MD\n",
            "Registration Number must be unique\n"
          ]
        }
      ]
    },
    {
      "cell_type": "code",
      "metadata": {
        "colab": {
          "base_uri": "https://localhost:8080/"
        },
        "id": "AaWEOfjqiSzf",
        "outputId": "370b73f7-36d1-474c-e1b4-55637441dca4"
      },
      "source": [
        "report1=PatientHealthReport(doctor1.doctor_guid,patient1.patient_guid,'2020-01-01',['Chills','Fever'],['Tylenol'],50,'Good health')"
      ],
      "execution_count": 367,
      "outputs": [
        {
          "output_type": "stream",
          "name": "stdout",
          "text": [
            "Successfully added Health report\n"
          ]
        }
      ]
    },
    {
      "cell_type": "code",
      "metadata": {
        "colab": {
          "base_uri": "https://localhost:8080/"
        },
        "id": "IXv8IxxO7X78",
        "outputId": "922d7201-95ce-4a56-92cb-ea17d64b0e55"
      },
      "source": [
        "report1.fetchPatientData()"
      ],
      "execution_count": 368,
      "outputs": [
        {
          "output_type": "stream",
          "name": "stdout",
          "text": [
            "Personal Information:\n",
            "Patient Name: Henry\n",
            "Gender: Male\n",
            "Address: Washington\n",
            "Phone Number: 1234\n",
            "Date of Birth: 2000-12-02\n",
            "Patient Age: 20\n",
            "Doctor Name: Mike\n",
            "Doctor Registration Number: ABC1234\n",
            "Last date of checkup: 2020-01-01\n",
            "Health Problems: Chills, Fever\n",
            "List of medicines: Tylenol\n",
            "Total cost: $50\n",
            "Final Report: Good health\n"
          ]
        }
      ]
    },
    {
      "cell_type": "code",
      "metadata": {
        "colab": {
          "base_uri": "https://localhost:8080/"
        },
        "id": "KzH1B2ea_zWI",
        "outputId": "e4a83688-6b27-4779-f988-e669281a5c05"
      },
      "source": [
        "report1.updateReport(\"Inrease in body temperature\")"
      ],
      "execution_count": 369,
      "outputs": [
        {
          "output_type": "stream",
          "name": "stdout",
          "text": [
            "Successfully updated report\n"
          ]
        }
      ]
    },
    {
      "cell_type": "code",
      "metadata": {
        "colab": {
          "base_uri": "https://localhost:8080/"
        },
        "id": "yNQHI3FP_8WW",
        "outputId": "73d686b7-084e-4934-8b66-5c667ea7a0c3"
      },
      "source": [
        "report1.fetchPatientData()"
      ],
      "execution_count": 370,
      "outputs": [
        {
          "output_type": "stream",
          "name": "stdout",
          "text": [
            "Personal Information:\n",
            "Patient Name: Henry\n",
            "Gender: Male\n",
            "Address: Washington\n",
            "Phone Number: 1234\n",
            "Date of Birth: 2000-12-02\n",
            "Patient Age: 20\n",
            "Doctor Name: Mike\n",
            "Doctor Registration Number: ABC1234\n",
            "Last date of checkup: 2020-01-01\n",
            "Health Problems: Chills, Fever\n",
            "List of medicines: Tylenol\n",
            "Total cost: $50\n",
            "Final Report: Inrease in body temperature\n"
          ]
        }
      ]
    }
  ]
}